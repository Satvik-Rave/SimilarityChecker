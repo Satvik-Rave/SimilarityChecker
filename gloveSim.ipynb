{
  "cells": [
    {
      "cell_type": "markdown",
      "metadata": {
        "id": "SjNAmtyUT33o"
      },
      "source": [
        "<h2>Sentence Transformers</h2>"
      ]
    },
    {
      "cell_type": "markdown",
      "metadata": {
        "id": "PC08IHg2jNe1"
      },
      "source": [
        "**Resources:**\n",
        "\n",
        "*   https://www.sbert.net/index.html\n",
        "*   https://www.sbert.net/docs/pretrained_models.html\n",
        "\n"
      ]
    },
    {
      "cell_type": "markdown",
      "metadata": {
        "id": "aJ9U2MTSQCGe"
      },
      "source": [
        "**Use cases:**\n",
        "\n",
        "\n",
        "\n",
        "*   Sentence Embedding\n",
        "*   Sentence Similarity\n",
        "*   Semantic Search\n",
        "*   Clustering\n",
        "\n",
        "\n",
        "\n",
        "\n",
        "\n",
        "\n",
        "\n",
        "\n",
        "\n",
        "\n"
      ]
    },
    {
      "cell_type": "code",
      "execution_count": null,
      "metadata": {
        "id": "iBxOfXwbeurS"
      },
      "outputs": [],
      "source": [
        "%pip install -U sentence-transformers"
      ]
    },
    {
      "cell_type": "markdown",
      "metadata": {
        "id": "8Fe3mt_jCTL0"
      },
      "source": [
        "**Generate Embeding**"
      ]
    },
    {
      "cell_type": "code",
      "execution_count": 1,
      "metadata": {
        "id": "QXuwDrEsTl-7"
      },
      "outputs": [],
      "source": [
        "from sentence_transformers import SentenceTransformer,util\n",
        "model = SentenceTransformer('all-MiniLM-L6-v2')"
      ]
    },
    {
      "cell_type": "code",
      "execution_count": 2,
      "metadata": {
        "id": "03fm2wdZejPc"
      },
      "outputs": [
        {
          "name": "stdout",
          "output_type": "stream",
          "text": [
            "Sentence: This framework generates embeddings for each input sentence\n",
            "Embedding: [-1.37173459e-02 -4.28515188e-02 -1.56286024e-02  1.40537797e-02\n",
            "  3.95537801e-02  1.21796258e-01  2.94333864e-02 -3.17523889e-02\n",
            "  3.54959629e-02 -7.93139860e-02  1.75878592e-02 -4.04370055e-02\n",
            "  4.97259274e-02  2.54912041e-02 -7.18700588e-02  8.14968869e-02\n",
            "  1.47070049e-03  4.79627140e-02 -4.50336300e-02 -9.92174819e-02\n",
            " -2.81769671e-02  6.45046532e-02  4.44670469e-02 -4.76217121e-02\n",
            " -3.52952629e-02  4.38671932e-02 -5.28565831e-02  4.33033478e-04\n",
            "  1.01921469e-01  1.64072085e-02  3.26996446e-02 -3.45986821e-02\n",
            "  1.21339206e-02  7.94871151e-02  4.58346587e-03  1.57778263e-02\n",
            " -9.68205091e-03  2.87625752e-02 -5.05806208e-02 -1.55793773e-02\n",
            " -2.87906546e-02 -9.62282810e-03  3.15556638e-02  2.27348655e-02\n",
            "  8.71449336e-02 -3.85027416e-02 -8.84718597e-02 -8.75498541e-03\n",
            " -2.12342888e-02  2.08923370e-02 -9.02077407e-02 -5.25732227e-02\n",
            " -1.05638960e-02  2.88310722e-02 -1.61454901e-02  6.17840327e-03\n",
            " -1.23234391e-02 -1.07336827e-02  2.83353832e-02 -5.28567657e-02\n",
            " -3.58618200e-02 -5.97988926e-02 -1.09055676e-02  2.91566290e-02\n",
            "  7.97979161e-02 -3.27878020e-04  6.83502015e-03  1.32718394e-02\n",
            " -4.24619988e-02  1.87657140e-02 -9.89234447e-02  2.09050011e-02\n",
            " -8.69605765e-02 -1.50151905e-02 -4.86201942e-02  8.04414526e-02\n",
            " -3.67700611e-03 -6.65044561e-02  1.14556782e-01 -3.04228738e-02\n",
            "  2.96631698e-02 -2.80695632e-02  4.64989990e-02 -2.25513615e-02\n",
            "  8.54222924e-02  3.15446667e-02  7.34541789e-02 -2.21861992e-02\n",
            " -5.29678278e-02  1.27129918e-02 -5.27340025e-02 -1.06188737e-01\n",
            "  7.04731718e-02  2.76736487e-02 -8.05531889e-02  2.39649769e-02\n",
            " -2.65125111e-02 -2.17331015e-02  4.35275808e-02  4.84712198e-02\n",
            " -2.37067416e-02  2.85768267e-02  1.11846179e-01 -6.34935796e-02\n",
            " -1.58318412e-02 -2.26169564e-02 -1.31027699e-02 -1.62065646e-03\n",
            " -3.60928848e-02 -9.78297070e-02 -4.67729010e-02  1.76271480e-02\n",
            " -3.97491977e-02 -1.76419970e-04  3.39627787e-02 -2.09633652e-02\n",
            "  6.33661682e-03 -2.59410944e-02  8.10410082e-02  6.14393204e-02\n",
            " -5.44597022e-03  6.48275912e-02 -1.16844065e-01  2.36861259e-02\n",
            " -1.32058384e-02 -1.12476498e-01  1.90049261e-02 -1.74661930e-34\n",
            "  5.58949709e-02  1.94244403e-02  4.65438738e-02  5.18645681e-02\n",
            "  3.89390662e-02  3.40541340e-02 -4.32114154e-02  7.90636837e-02\n",
            " -9.79530215e-02 -1.27441054e-02 -2.91870739e-02  1.02052009e-02\n",
            "  1.88115723e-02  1.08942531e-01  6.63465261e-02 -5.35295047e-02\n",
            " -3.29228491e-02  4.69827168e-02  2.28882991e-02  2.74114795e-02\n",
            " -2.91982964e-02  3.12706754e-02 -2.22850423e-02 -1.02282181e-01\n",
            " -2.79116649e-02  1.13792913e-02  9.06308815e-02 -4.75414693e-02\n",
            " -1.00718960e-01 -1.23232054e-02 -7.96928704e-02 -1.44636221e-02\n",
            " -7.76400715e-02 -7.66919181e-03  9.73955169e-03  2.24204734e-02\n",
            "  7.77268186e-02 -3.17157316e-03  2.11537480e-02 -3.30393650e-02\n",
            "  9.55244340e-03 -3.73011529e-02  2.61360500e-02 -9.79085639e-03\n",
            " -6.31505251e-02  5.77436946e-03 -3.80030796e-02  1.29684769e-02\n",
            " -1.82499643e-02 -1.56283174e-02 -1.23362232e-03  5.55579104e-02\n",
            "  1.13092436e-04 -5.61256371e-02  7.40165412e-02  1.84452068e-02\n",
            " -2.66368482e-02  1.31951645e-02  7.50086680e-02 -2.46797018e-02\n",
            " -3.24005559e-02 -1.57675166e-02 -8.03517643e-03 -5.61317336e-03\n",
            "  1.05687790e-02  3.26163764e-03 -3.91989760e-02 -9.38677341e-02\n",
            "  1.14227191e-01  6.57304525e-02 -4.72633801e-02  1.45087531e-02\n",
            " -3.54490243e-02 -3.37761790e-02 -5.15505821e-02 -3.81003087e-03\n",
            " -5.15036434e-02 -5.93429208e-02 -1.69413106e-03  7.42107555e-02\n",
            " -4.20091711e-02 -7.19974861e-02  3.17250341e-02 -1.66303609e-02\n",
            "  3.96981975e-03 -6.52750805e-02  2.77391206e-02 -7.51648843e-02\n",
            "  2.27455813e-02 -3.91368233e-02  1.54315708e-02 -5.54908253e-02\n",
            "  1.23318778e-02 -2.59520840e-02  6.66423365e-02 -6.91257856e-34\n",
            "  3.31628993e-02  8.47928897e-02 -6.65583536e-02  3.33541483e-02\n",
            "  4.71610995e-03  1.35361906e-02 -5.38694225e-02  9.20693949e-02\n",
            " -2.96876524e-02  3.16219628e-02 -2.37497427e-02  1.98771134e-02\n",
            "  1.03446193e-01 -9.06947330e-02  6.30627805e-03  1.42886378e-02\n",
            "  1.19294031e-02  6.43725600e-03  4.20104451e-02  1.25344852e-02\n",
            "  3.93019095e-02  5.35691939e-02 -4.30749543e-02  6.10432737e-02\n",
            " -5.39755638e-05  6.91682324e-02  1.05520273e-02  1.22111822e-02\n",
            " -7.23185241e-02  2.50469409e-02 -5.18371090e-02 -4.36562337e-02\n",
            " -6.71818480e-02  1.34828305e-02 -7.25888759e-02  7.04170577e-03\n",
            "  6.58939555e-02  1.08994525e-02 -2.60010525e-03  5.49968779e-02\n",
            "  5.06966673e-02  3.27948667e-02 -6.68833256e-02  6.45557418e-02\n",
            " -2.52075978e-02 -2.92572267e-02 -1.16696708e-01  3.24064381e-02\n",
            "  5.85858189e-02 -3.51756513e-02 -7.15240464e-02  2.24935990e-02\n",
            " -1.00786708e-01 -4.74545062e-02 -7.61962458e-02 -5.87166660e-02\n",
            "  4.21138369e-02 -7.47213811e-02  1.98468119e-02 -3.36501864e-03\n",
            " -5.29736467e-02  2.74729729e-02  3.45736556e-02 -6.11846708e-02\n",
            "  1.06364816e-01 -9.64120179e-02 -4.55944538e-02  1.51489722e-02\n",
            " -5.13525493e-03 -6.64447621e-02  4.31721136e-02 -1.10405860e-02\n",
            " -9.80251096e-03  7.53783211e-02 -1.49571076e-02 -4.80208397e-02\n",
            "  5.80726378e-02 -2.43896488e-02 -2.23137699e-02 -4.36992310e-02\n",
            "  5.12053818e-02 -3.28625962e-02  1.08763270e-01  6.08926602e-02\n",
            "  3.30794253e-03  5.53819798e-02  8.43201056e-02  1.27087412e-02\n",
            "  3.84465642e-02  6.52325526e-02 -2.94683911e-02  5.08005098e-02\n",
            " -2.09347792e-02  1.46135688e-01  2.25561298e-02 -1.77227744e-08\n",
            " -5.02672642e-02 -2.79223896e-04 -1.00328632e-01  2.42811684e-02\n",
            " -7.54043311e-02 -3.79140042e-02  3.96049358e-02  3.10079660e-02\n",
            " -9.05703101e-03 -6.50411695e-02  4.05452959e-02  4.83390428e-02\n",
            " -4.56962548e-02  4.76006744e-03  2.64360895e-03  9.35613960e-02\n",
            " -4.02599834e-02  3.27401944e-02  1.18298084e-02  5.54344803e-02\n",
            "  1.48052245e-01  7.21189231e-02  2.76976527e-04  1.68651044e-02\n",
            "  8.34881421e-03 -8.76154006e-03 -1.33649232e-02  6.14236854e-02\n",
            "  1.57168079e-02  6.94961101e-02  1.08621791e-02  6.08018078e-02\n",
            " -5.33421896e-02 -3.47923934e-02 -3.36272009e-02  6.93906397e-02\n",
            "  1.22987516e-02 -1.45237371e-01 -2.06971425e-03 -4.61132377e-02\n",
            "  3.72748077e-03 -5.59354573e-03 -1.00659825e-01 -4.45953049e-02\n",
            "  5.40921316e-02  4.98891203e-03  1.49534605e-02 -8.26059729e-02\n",
            "  6.26630709e-02 -5.01908641e-03 -4.81857918e-02 -3.53991129e-02\n",
            "  9.03391931e-03 -2.42338069e-02  5.66267446e-02  2.51529086e-02\n",
            " -1.70708634e-02 -1.24780433e-02  3.19518149e-02  1.38420891e-02\n",
            " -1.55814970e-02  1.00178219e-01  1.23657145e-01 -4.22967188e-02]\n",
            "\n",
            "Sentence: Sentences are passed as a list of string.\n",
            "Embedding: [ 5.64524755e-02  5.50023951e-02  3.13795991e-02  3.39485109e-02\n",
            " -3.54247130e-02  8.34667757e-02  9.88800749e-02  7.27543887e-03\n",
            " -6.68658782e-03 -7.65809836e-03  7.93738589e-02  7.39700568e-04\n",
            "  1.49292126e-02 -1.51047055e-02  3.67674418e-02  4.78743427e-02\n",
            " -4.81969304e-02 -3.76052260e-02 -4.60278504e-02 -8.89816135e-02\n",
            "  1.20228097e-01  1.30663216e-01 -3.73935811e-02  2.47857091e-03\n",
            "  2.55821971e-03  7.25814402e-02 -6.80436864e-02 -5.24696559e-02\n",
            "  4.90234159e-02  2.99563017e-02 -5.84429502e-02 -2.02263184e-02\n",
            "  2.08822079e-02  9.76692140e-02  3.52390260e-02  3.91140990e-02\n",
            "  1.05668204e-02  1.56231888e-03 -1.30822817e-02  8.52901954e-03\n",
            " -4.84094117e-03 -2.03766581e-02 -2.71801017e-02  2.83307768e-02\n",
            "  3.66017781e-02  2.51276139e-02 -9.90861803e-02  1.15626259e-02\n",
            " -3.60380076e-02 -7.23783895e-02 -1.12670138e-01  1.12941908e-02\n",
            " -3.86397578e-02  4.67386320e-02 -2.88460739e-02  2.26703621e-02\n",
            " -8.52409005e-03  3.32814902e-02 -1.06580858e-03 -7.09745511e-02\n",
            " -6.31170124e-02 -5.72187006e-02 -6.16026483e-02  5.47146872e-02\n",
            "  1.18317520e-02 -4.66261208e-02  2.56959703e-02 -7.07414839e-03\n",
            " -5.73842712e-02  4.12839428e-02 -5.91503121e-02  5.89022078e-02\n",
            " -4.41697352e-02  4.65081520e-02 -3.15814242e-02  5.58312312e-02\n",
            "  5.54578379e-02 -5.96533380e-02  4.06407304e-02  4.83761542e-03\n",
            " -4.96768467e-02 -1.00944355e-01  3.40078138e-02  4.13269736e-03\n",
            " -2.93520861e-03  2.11837497e-02 -3.73962335e-02 -2.79067084e-02\n",
            " -4.61767651e-02  5.26138507e-02 -2.79734693e-02 -1.62379265e-01\n",
            "  6.61042258e-02  1.72274280e-02 -5.45109436e-03  4.74473611e-02\n",
            " -3.82237136e-02 -3.96896899e-02  1.34544550e-02  4.49653678e-02\n",
            "  4.53671440e-03  2.82978900e-02  8.36633146e-02 -1.00858007e-02\n",
            " -1.19353980e-01 -3.84624526e-02  4.82858643e-02 -9.46083814e-02\n",
            "  1.91854183e-02 -9.96518210e-02 -6.30596727e-02  3.02696135e-02\n",
            "  1.17402663e-02 -4.78372462e-02 -6.20268844e-03 -3.32850516e-02\n",
            " -4.04388783e-03  1.28307110e-02  4.05254103e-02  7.56476894e-02\n",
            "  2.92434506e-02  2.84270626e-02 -2.78938990e-02  1.66857950e-02\n",
            " -2.47961637e-02 -6.83651119e-02  2.89968606e-02 -5.39867821e-33\n",
            " -2.69014109e-03 -2.65069194e-02 -6.47940324e-04 -8.46193824e-03\n",
            " -7.35154748e-02  4.94083110e-03 -5.97842000e-02  1.03438133e-02\n",
            "  2.12904601e-03 -2.88217957e-03 -3.17076519e-02 -9.42364335e-02\n",
            "  3.03019676e-02  7.00226724e-02  4.50686067e-02  3.69439460e-02\n",
            "  1.13593508e-02  3.53026837e-02  5.50448522e-03  1.34418590e-03\n",
            "  3.46124242e-03  7.75047764e-02  5.45112491e-02 -7.92055950e-02\n",
            " -9.31697115e-02 -4.03398499e-02  3.10668796e-02 -3.83081250e-02\n",
            " -5.89443371e-02  1.93331987e-02 -2.67159976e-02 -7.91938230e-02\n",
            "  1.04175007e-04  7.70621449e-02  4.16603200e-02  8.90932307e-02\n",
            "  3.56843136e-02 -1.09153222e-02  3.71498652e-02 -2.07070578e-02\n",
            " -2.46100631e-02 -2.05025356e-02  2.62201466e-02  3.43590640e-02\n",
            "  4.39251140e-02 -8.20519868e-03 -8.40710104e-02  4.24170829e-02\n",
            "  4.87498790e-02  5.95384911e-02  2.87747663e-02  3.37638445e-02\n",
            " -4.07442935e-02 -1.66374573e-03  7.91927278e-02  3.41088325e-02\n",
            " -5.72843943e-04  1.87749416e-02 -1.36964088e-02  7.38333017e-02\n",
            "  5.74509089e-04  8.33505392e-02  5.60811013e-02 -1.13711087e-02\n",
            "  4.42611612e-02  2.69581825e-02 -4.80536111e-02 -3.15087438e-02\n",
            "  7.75226206e-02  1.81773193e-02 -8.83005187e-02 -7.85520393e-03\n",
            " -6.22243024e-02  7.19372928e-02 -2.33474951e-02  6.52482221e-03\n",
            " -9.49529093e-03 -9.88313034e-02  4.01306674e-02  3.07397004e-02\n",
            " -2.21607368e-02 -9.45911333e-02  1.02367755e-02  1.02187753e-01\n",
            " -4.12960090e-02 -3.15778144e-02  4.74752299e-02 -1.10209800e-01\n",
            "  1.69614982e-02 -3.71709093e-02 -1.03261862e-02 -4.72538099e-02\n",
            " -1.20213935e-02 -1.93255264e-02  5.79292178e-02  4.23865906e-34\n",
            "  3.92013043e-02  8.41361731e-02 -1.02946714e-01  6.92260265e-02\n",
            "  1.68821253e-02 -3.26760635e-02  9.65956040e-03  1.80899836e-02\n",
            "  2.17939913e-02  1.63189564e-02 -9.69292074e-02  3.74851073e-03\n",
            " -2.38456838e-02 -3.44056077e-02  7.11962730e-02  9.21939441e-04\n",
            " -6.23855926e-03  3.23754102e-02 -8.90396652e-04  5.01905056e-03\n",
            " -4.24538366e-02  9.89084393e-02 -4.60321195e-02  4.69705127e-02\n",
            " -1.75284520e-02 -7.02514965e-03  1.32743483e-02 -5.30151986e-02\n",
            "  2.66405637e-03  1.45819178e-02  7.43342098e-03 -3.07131428e-02\n",
            " -2.09416598e-02  8.24110135e-02 -5.15893809e-02 -2.71178372e-02\n",
            "  1.17582999e-01  7.72504881e-03 -1.89523064e-02  3.94559242e-02\n",
            "  7.17360377e-02  2.59116869e-02  2.75191572e-02  9.50543769e-03\n",
            " -3.02355327e-02 -4.07944657e-02 -1.04028441e-01 -7.97421765e-03\n",
            " -3.64455907e-03  3.29716317e-02 -2.35954914e-02 -7.50517705e-03\n",
            " -5.82234114e-02 -3.17906141e-02 -4.18049209e-02  2.17453856e-02\n",
            " -6.67291880e-02 -4.89104241e-02  4.58515901e-03 -2.66046263e-02\n",
            " -1.12597004e-01  5.11167869e-02  5.48533946e-02 -6.69857115e-02\n",
            "  1.26766294e-01 -8.59487653e-02 -5.94231449e-02 -2.92185647e-03\n",
            " -1.14875790e-02 -1.26025781e-01 -3.48280394e-03 -9.12001655e-02\n",
            " -1.22933060e-01  1.33777028e-02 -4.75775078e-02 -6.57933280e-02\n",
            " -3.39409932e-02 -3.07107233e-02 -5.22033758e-02 -2.35464051e-02\n",
            "  5.90035133e-02 -3.85757722e-02  3.19701470e-02  4.05118316e-02\n",
            "  1.67077817e-02 -3.58281098e-02  1.45687992e-02  3.20137292e-02\n",
            " -1.34843560e-02  6.07819781e-02 -8.31397343e-03 -1.08106025e-02\n",
            "  4.69410755e-02  7.66133741e-02 -4.23400365e-02 -2.11963300e-08\n",
            " -7.25292414e-02 -4.20227759e-02 -6.12374544e-02  5.24666533e-02\n",
            " -1.42363906e-02  1.18486779e-02 -1.40789226e-02 -3.67530063e-02\n",
            " -4.44977731e-02 -1.15140136e-02  5.23316897e-02  2.96651758e-02\n",
            " -4.62780371e-02 -3.70892435e-02  1.89129841e-02  2.04306785e-02\n",
            " -2.24006213e-02 -1.48562547e-02 -1.79504286e-02  4.20007631e-02\n",
            "  1.40942587e-02 -2.83492506e-02 -1.16863027e-01  1.48956720e-02\n",
            " -7.30578438e-04  5.66028543e-02 -2.68740021e-02  1.09106667e-01\n",
            "  2.94562522e-03  1.19267911e-01  1.14212446e-01  8.92973691e-02\n",
            " -1.70255397e-02 -4.99053970e-02 -2.11930722e-02  3.18421163e-02\n",
            "  7.03435913e-02 -1.02929436e-01  8.23816732e-02  2.81968042e-02\n",
            "  3.21146362e-02  3.79107855e-02 -1.09553099e-01  8.19620416e-02\n",
            "  8.73216465e-02 -5.73563799e-02 -2.01709028e-02 -5.69444336e-02\n",
            " -1.30338585e-02 -5.55684157e-02 -1.32966172e-02  8.64013284e-03\n",
            "  5.30012809e-02 -4.06847261e-02  2.71709170e-02 -2.55950470e-03\n",
            "  3.05775627e-02 -4.61865515e-02  4.68033599e-03 -3.64947133e-02\n",
            "  6.80802613e-02  6.65087253e-02  8.49152058e-02 -3.32848951e-02]\n",
            "\n"
          ]
        }
      ],
      "source": [
        "sentences = ['This framework generates embeddings for each input sentence',\n",
        "    'Sentences are passed as a list of string.']\n",
        "\n",
        "\n",
        "embeddings = model.encode(sentences)\n",
        "\n",
        "\n",
        "for sentence, embedding in zip(sentences, embeddings):\n",
        "    print(\"Sentence:\", sentence)\n",
        "    print(\"Embedding:\", embedding)\n",
        "    print(\"\")"
      ]
    },
    {
      "cell_type": "markdown",
      "metadata": {
        "id": "YDc8_VCrCQGt"
      },
      "source": [
        "**Cosine-Similarity**"
      ]
    },
    {
      "cell_type": "code",
      "execution_count": 2,
      "metadata": {
        "colab": {
          "base_uri": "https://localhost:8080/"
        },
        "id": "ZGz3bDLhewrZ",
        "outputId": "a14d7c3c-638a-4975-e70c-370d8a61ca03"
      },
      "outputs": [
        {
          "name": "stdout",
          "output_type": "stream",
          "text": [
            "Cosine-Similarity: tensor([[0.8613]])\n"
          ]
        }
      ],
      "source": [
        "emb1 = model.encode(\"I am eating Apple\")\n",
        "emb2 = model.encode(\"eating apple, am i?\")\n",
        "cos_sim = util.cos_sim(emb1, emb2)\n",
        "print(\"Cosine-Similarity:\", cos_sim)"
      ]
    },
    {
      "cell_type": "markdown",
      "metadata": {
        "id": "Ml5sIVHOCY6u"
      },
      "source": [
        "**Compute cosine similarity between all pairs**"
      ]
    },
    {
      "cell_type": "code",
      "execution_count": 5,
      "metadata": {
        "colab": {
          "base_uri": "https://localhost:8080/"
        },
        "id": "9lyr6Tjge9UY",
        "outputId": "01b57e4d-0c3d-435e-8b4f-25eda073c88e"
      },
      "outputs": [
        {
          "data": {
            "text/plain": [
              "tensor(1.0000)"
            ]
          },
          "execution_count": 5,
          "metadata": {},
          "output_type": "execute_result"
        }
      ],
      "source": [
        "# Compute cosine similarity between all pairs\n",
        "\n",
        "sentences = ['A man is eating food.',\n",
        "          'A man is eating a piece of bread.',\n",
        "          'The girl is carrying a baby.',\n",
        "          'A man is riding a horse.',\n",
        "          'A woman is playing violin.',\n",
        "          'Two men pushed carts through the woods.',\n",
        "          'A man is riding a white horse on an enclosed ground.',\n",
        "          'A monkey is playing drums.',\n",
        "          'Someone in a gorilla costume is playing a set of drums.'\n",
        "          ]\n",
        "\n",
        "#Encode all sentences\n",
        "embeddings = model.encode(sentences)\n",
        "\n",
        "#Compute cosine similarity between all pairs\n",
        "cos_sim = util.cos_sim(embeddings, embeddings)\n",
        "\n",
        "cos_sim[5][5]\n",
        "\n"
      ]
    },
    {
      "cell_type": "code",
      "execution_count": 8,
      "metadata": {
        "colab": {
          "base_uri": "https://localhost:8080/"
        },
        "id": "06H7O06b91_q",
        "outputId": "ecf163db-0c42-4ebe-9a3f-9f5b6f900272"
      },
      "outputs": [
        {
          "data": {
            "text/plain": [
              "[(tensor(0.7553), 0, 1),\n",
              " (tensor(-0.1050), 0, 2),\n",
              " (tensor(0.2474), 0, 3),\n",
              " (tensor(-0.0704), 0, 4),\n",
              " (tensor(-0.0333), 0, 5),\n",
              " (tensor(0.1707), 0, 6),\n",
              " (tensor(0.0476), 0, 7),\n",
              " (tensor(0.0630), 0, 8),\n",
              " (tensor(-0.0610), 1, 2),\n",
              " (tensor(0.1442), 1, 3),\n",
              " (tensor(-0.0809), 1, 4),\n",
              " (tensor(-0.0216), 1, 5),\n",
              " (tensor(0.1157), 1, 6),\n",
              " (tensor(0.0362), 1, 7),\n",
              " (tensor(0.0216), 1, 8),\n",
              " (tensor(-0.1088), 2, 3),\n",
              " (tensor(0.0217), 2, 4),\n",
              " (tensor(-0.0413), 2, 5),\n",
              " (tensor(-0.0928), 2, 6),\n",
              " (tensor(0.0231), 2, 7),\n",
              " (tensor(0.0247), 2, 8),\n",
              " (tensor(-0.0348), 3, 4),\n",
              " (tensor(0.0362), 3, 5),\n",
              " (tensor(0.7369), 3, 6),\n",
              " (tensor(0.0821), 3, 7),\n",
              " (tensor(0.1389), 3, 8),\n",
              " (tensor(-0.1654), 4, 5),\n",
              " (tensor(-0.0592), 4, 6),\n",
              " (tensor(0.1961), 4, 7),\n",
              " (tensor(0.2564), 4, 8),\n",
              " (tensor(0.0769), 5, 6),\n",
              " (tensor(-0.0380), 5, 7),\n",
              " (tensor(-0.0895), 5, 8),\n",
              " (tensor(0.0495), 6, 7),\n",
              " (tensor(0.1191), 6, 8),\n",
              " (tensor(0.6433), 7, 8)]"
            ]
          },
          "execution_count": 8,
          "metadata": {},
          "output_type": "execute_result"
        }
      ],
      "source": [
        "#Add all pairs to a list with their cosine similarity score\n",
        "all_sentence_combinations = []\n",
        "for i in range(len(cos_sim)-1):\n",
        "    for j in range(i+1, len(cos_sim)):\n",
        "        all_sentence_combinations.append((cos_sim[i][j], i, j))\n",
        "all_sentence_combinations        "
      ]
    },
    {
      "cell_type": "code",
      "execution_count": 9,
      "metadata": {
        "colab": {
          "base_uri": "https://localhost:8080/"
        },
        "id": "qhggYpNbfK4J",
        "outputId": "b4d486f0-4435-4513-8b01-f99f59946370"
      },
      "outputs": [
        {
          "name": "stdout",
          "output_type": "stream",
          "text": [
            "Top-5 most similar pairs:\n",
            "A man is eating food. \t A man is eating a piece of bread. \t 0.7553\n",
            "A man is riding a horse. \t A man is riding a white horse on an enclosed ground. \t 0.7369\n",
            "A monkey is playing drums. \t Someone in a gorilla costume is playing a set of drums. \t 0.6433\n",
            "A woman is playing violin. \t Someone in a gorilla costume is playing a set of drums. \t 0.2564\n",
            "A man is eating food. \t A man is riding a horse. \t 0.2474\n"
          ]
        }
      ],
      "source": [
        "#Sort list by the highest cosine similarity score\n",
        "all_sentence_combinations = sorted(all_sentence_combinations, key=lambda x: x[0], reverse=True)\n",
        "\n",
        "print(\"Top-5 most similar pairs:\")\n",
        "for score, i, j in all_sentence_combinations[0:5]:\n",
        "    print(\"{} \\t {} \\t {:.4f}\".format(sentences[i], sentences[j], cos_sim[i][j]))"
      ]
    },
    {
      "cell_type": "markdown",
      "metadata": {
        "id": "E0-VolFWK-Rq"
      },
      "source": [
        "**Semantic search**"
      ]
    },
    {
      "cell_type": "code",
      "execution_count": null,
      "metadata": {
        "colab": {
          "base_uri": "https://localhost:8080/"
        },
        "id": "wpX-L96mTthR",
        "outputId": "e4ff82e3-aac0-4853-df35-17df034ffcaf"
      },
      "outputs": [
        {
          "name": "stderr",
          "output_type": "stream",
          "text": [
            "/usr/local/lib/python3.7/dist-packages/transformers/configuration_utils.py:369: UserWarning: Passing `gradient_checkpointing` to a config initialization is deprecated and will be removed in v5 Transformers. Using `model.gradient_checkpointing_enable()` instead, or if you are using the `Trainer` API, pass `gradient_checkpointing=True` in your `TrainingArguments`.\n",
            "  \"Passing `gradient_checkpointing` to a config initialization is deprecated and will be removed in v5 \"\n"
          ]
        }
      ],
      "source": [
        "from sentence_transformers import SentenceTransformer, util\n",
        "model = SentenceTransformer('clips/mfaq')"
      ]
    },
    {
      "cell_type": "code",
      "execution_count": null,
      "metadata": {
        "colab": {
          "base_uri": "https://localhost:8080/"
        },
        "id": "z1gio-Pci9RF",
        "outputId": "5c45c533-ade1-469c-8d16-75248660302a"
      },
      "outputs": [
        {
          "name": "stdout",
          "output_type": "stream",
          "text": [
            "[[{'corpus_id': 0, 'score': 0.5646325945854187}, {'corpus_id': 2, 'score': 0.5142340660095215}, {'corpus_id': 1, 'score': 0.4730038046836853}]]\n"
          ]
        }
      ],
      "source": [
        "\n",
        "question = \"<Q>How many models can I host on HuggingFace?\"\n",
        "answer_1 = \"<A>All plans come with unlimited private models and datasets.\"\n",
        "answer_2 = \"<A>AutoNLP is an automatic way to train and deploy state-of-the-art NLP models, seamlessly integrated with the Hugging Face ecosystem.\"\n",
        "answer_3 = \"<A>Based on how much training data and model variants are created, we send you a compute cost and payment link - as low as $10 per job.\"\n",
        "\n",
        "query_embedding = model.encode(question)\n",
        "corpus_embeddings = model.encode([answer_1, answer_2, answer_3])\n",
        "\n",
        "print(util.semantic_search(query_embedding, corpus_embeddings))"
      ]
    },
    {
      "cell_type": "code",
      "execution_count": null,
      "metadata": {
        "id": "6FG1WXOudgYq"
      },
      "outputs": [],
      "source": [
        "from transformers import pipeline"
      ]
    },
    {
      "cell_type": "code",
      "execution_count": null,
      "metadata": {
        "colab": {
          "base_uri": "https://localhost:8080/"
        },
        "id": "1Qa18QF-ddMa",
        "outputId": "440e262a-1672-4f9b-e85b-c98bd1f96344"
      },
      "outputs": [
        {
          "name": "stderr",
          "output_type": "stream",
          "text": [
            "No model was supplied, defaulted to distilbert-base-cased-distilled-squad and revision 626af31 (https://huggingface.co/distilbert-base-cased-distilled-squad).\n",
            "Using a pipeline without specifying a model name and revision in production is not recommended.\n"
          ]
        },
        {
          "data": {
            "text/plain": [
              "{'answer': 'unlimited', 'end': 29, 'score': 0.701717734336853, 'start': 20}"
            ]
          },
          "execution_count": 14,
          "metadata": {},
          "output_type": "execute_result"
        }
      ],
      "source": [
        "qa_model = pipeline(\"question-answering\")\n",
        "question = \"How many models can I host on HuggingFace?\"\n",
        "context = \"All plans come with unlimited private models and datasets.\"\n",
        "qa_model(question = question, context = context)"
      ]
    },
    {
      "cell_type": "code",
      "execution_count": null,
      "metadata": {
        "id": "_J6IY-4oC4hF"
      },
      "outputs": [],
      "source": [
        "print(util.semantic_search(query_embedding, corpus_embeddings))"
      ]
    },
    {
      "cell_type": "markdown",
      "metadata": {
        "id": "G9tF0hu6K0TD"
      },
      "source": [
        "**Clustering**"
      ]
    },
    {
      "cell_type": "code",
      "execution_count": null,
      "metadata": {
        "id": "BC9xCE63G0UF"
      },
      "outputs": [],
      "source": [
        "from sklearn.cluster import KMeans\n",
        "import numpy as np\n",
        "\n",
        "embedder = SentenceTransformer('all-MiniLM-L6-v2')\n",
        "\n",
        "# Corpus with example sentences\n",
        "corpus = ['A man is eating food.',\n",
        "          'A man is eating a piece of bread.',\n",
        "          'Horse is eating grass.',\n",
        "          'A man is eating pasta.',\n",
        "          'A Woman is eating Biryani.',\n",
        "          'The girl is carrying a baby.',\n",
        "          'The baby is carried by the woman',\n",
        "          'A man is riding a horse.',\n",
        "          'A man is riding a white horse on an enclosed ground.',\n",
        "          'A monkey is playing drums.',\n",
        "          'Someone in a gorilla costume is playing a set of drums.',\n",
        "          'A cheetah is running behind its prey.',\n",
        "          'A cheetah chases prey on across a field.',\n",
        "          'The cheetah is chasing a man who is riding the horse.',\n",
        "          'man and women with their baby are watching cheetah in zoo'\n",
        "          ]\n",
        "corpus_embeddings = embedder.encode(corpus)\n",
        "\n",
        "# Normalize the embeddings to unit length\n",
        "corpus_embeddings = corpus_embeddings /  np.linalg.norm(corpus_embeddings, axis=1, keepdims=True)"
      ]
    },
    {
      "cell_type": "code",
      "execution_count": null,
      "metadata": {
        "id": "ri3xLpcXerJW"
      },
      "outputs": [],
      "source": [
        "corpus_embeddings[0]"
      ]
    },
    {
      "cell_type": "code",
      "execution_count": null,
      "metadata": {
        "colab": {
          "base_uri": "https://localhost:8080/"
        },
        "id": "f-pCHO7EkDKj",
        "outputId": "9728213e-3be7-4735-b468-9708aa55dcb0"
      },
      "outputs": [
        {
          "name": "stdout",
          "output_type": "stream",
          "text": [
            "[1 1 3 1 1 0 0 3 3 2 2 3 3 3 0]\n"
          ]
        }
      ],
      "source": [
        "# source: https://stackoverflow.com/questions/55619176/how-to-cluster-similar-sentences-using-bert\n",
        "\n",
        "clustering_model = KMeans(n_clusters=4)\n",
        "clustering_model.fit(corpus_embeddings)\n",
        "cluster_assignment = clustering_model.labels_\n",
        "print(cluster_assignment)"
      ]
    },
    {
      "cell_type": "code",
      "execution_count": null,
      "metadata": {
        "colab": {
          "base_uri": "https://localhost:8080/"
        },
        "id": "Ih-1L7bJJq0k",
        "outputId": "d0bdf4f9-eae8-40a8-d98b-5458b1d26a36"
      },
      "outputs": [
        {
          "data": {
            "text/plain": [
              "{0: ['The girl is carrying a baby.',\n",
              "  'The baby is carried by the woman',\n",
              "  'A monkey is playing drums.',\n",
              "  'Someone in a gorilla costume is playing a set of drums.',\n",
              "  'man and women with their baby are watching cheetah in zoo'],\n",
              " 1: ['Horse is eating grass.',\n",
              "  'A man is riding a horse.',\n",
              "  'A man is riding a white horse on an enclosed ground.',\n",
              "  'A cheetah is running behind its prey.',\n",
              "  'A cheetah chases prey on across a field.',\n",
              "  'The cheetah is chasing a man who is riding the horse.'],\n",
              " 2: ['A man is eating food.',\n",
              "  'A man is eating a piece of bread.',\n",
              "  'A man is eating pasta.',\n",
              "  'A Woman is eating Biryani.']}"
            ]
          },
          "execution_count": 18,
          "metadata": {},
          "output_type": "execute_result"
        }
      ],
      "source": [
        "clustered_sentences = {}\n",
        "for sentence_id, cluster_id in enumerate(cluster_assignment):\n",
        "    if cluster_id not in clustered_sentences:\n",
        "        clustered_sentences[cluster_id] = []\n",
        "\n",
        "    clustered_sentences[cluster_id].append(corpus[sentence_id])\n",
        "clustered_sentences"
      ]
    },
    {
      "cell_type": "code",
      "execution_count": null,
      "metadata": {
        "colab": {
          "base_uri": "https://localhost:8080/"
        },
        "id": "O2eINiS3Sivc",
        "outputId": "90bd9c78-4a64-4ade-a824-225f199c454e"
      },
      "outputs": [
        {
          "data": {
            "text/plain": [
              "{0: ['The girl is carrying a baby.',\n",
              "  'The baby is carried by the woman',\n",
              "  'man and women with their baby are watching cheetah in zoo'],\n",
              " 1: ['A man is eating food.',\n",
              "  'A man is eating a piece of bread.',\n",
              "  'A man is eating pasta.',\n",
              "  'A Woman is eating Biryani.'],\n",
              " 2: ['A monkey is playing drums.',\n",
              "  'Someone in a gorilla costume is playing a set of drums.'],\n",
              " 3: ['Horse is eating grass.',\n",
              "  'A man is riding a horse.',\n",
              "  'A man is riding a white horse on an enclosed ground.',\n",
              "  'A cheetah is running behind its prey.',\n",
              "  'A cheetah chases prey on across a field.',\n",
              "  'The cheetah is chasing a man who is riding the horse.']}"
            ]
          },
          "execution_count": 20,
          "metadata": {},
          "output_type": "execute_result"
        }
      ],
      "source": [
        "clustered_sentences = {}\n",
        "for sentence_id, cluster_id in enumerate(cluster_assignment):\n",
        "    if cluster_id not in clustered_sentences:\n",
        "        clustered_sentences[cluster_id] = []\n",
        "\n",
        "    clustered_sentences[cluster_id].append(corpus[sentence_id])\n",
        "clustered_sentences"
      ]
    },
    {
      "cell_type": "code",
      "execution_count": null,
      "metadata": {
        "id": "O5GW-zqcfsPl"
      },
      "outputs": [],
      "source": []
    }
  ],
  "metadata": {
    "accelerator": "GPU",
    "colab": {
      "collapsed_sections": [],
      "name": "Youtube: Course Sentence Transformers.ipynb",
      "provenance": []
    },
    "gpuClass": "standard",
    "kernelspec": {
      "display_name": "Python 3",
      "name": "python3"
    },
    "language_info": {
      "codemirror_mode": {
        "name": "ipython",
        "version": 3
      },
      "file_extension": ".py",
      "mimetype": "text/x-python",
      "name": "python",
      "nbconvert_exporter": "python",
      "pygments_lexer": "ipython3",
      "version": "3.11.4"
    }
  },
  "nbformat": 4,
  "nbformat_minor": 0
}
