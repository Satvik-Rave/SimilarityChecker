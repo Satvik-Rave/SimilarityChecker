{
 "cells": [
  {
   "cell_type": "code",
   "execution_count": 8,
   "metadata": {},
   "outputs": [],
   "source": [
    "from sklearn.feature_extraction.text import TfidfVectorizer\n",
    "from sklearn.metrics.pairwise import cosine_similarity\n",
    "import numpy as np\n",
    "import pandas as pd"
   ]
  },
  {
   "cell_type": "code",
   "execution_count": 9,
   "metadata": {},
   "outputs": [],
   "source": [
    "from datasets import load_dataset"
   ]
  },
  {
   "cell_type": "code",
   "execution_count": 10,
   "metadata": {},
   "outputs": [
    {
     "name": "stderr",
     "output_type": "stream",
     "text": [
      "C:\\Users\\Satvik Jain\\AppData\\Roaming\\Python\\Python311\\site-packages\\datasets\\load.py:1461: FutureWarning: The repository for big_patent contains custom code which must be executed to correctly load the dataset. You can inspect the repository content at https://hf.co/datasets/big_patent\n",
      "You can avoid this message in future by passing the argument `trust_remote_code=True`.\n",
      "Passing `trust_remote_code=True` will be mandatory to load this dataset from the next major release of `datasets`.\n",
      "  warnings.warn(\n"
     ]
    }
   ],
   "source": [
    "ds = load_dataset(\"big_patent\",\"d\")"
   ]
  },
  {
   "cell_type": "code",
   "execution_count": 11,
   "metadata": {},
   "outputs": [
    {
     "data": {
      "text/plain": [
       "(10164, 2)"
      ]
     },
     "execution_count": 11,
     "metadata": {},
     "output_type": "execute_result"
    }
   ],
   "source": [
    "ds['train'].shape"
   ]
  },
  {
   "cell_type": "code",
   "execution_count": 13,
   "metadata": {},
   "outputs": [
    {
     "data": {
      "text/html": [
       "<div>\n",
       "<style scoped>\n",
       "    .dataframe tbody tr th:only-of-type {\n",
       "        vertical-align: middle;\n",
       "    }\n",
       "\n",
       "    .dataframe tbody tr th {\n",
       "        vertical-align: top;\n",
       "    }\n",
       "\n",
       "    .dataframe thead th {\n",
       "        text-align: right;\n",
       "    }\n",
       "</style>\n",
       "<table border=\"1\" class=\"dataframe\">\n",
       "  <thead>\n",
       "    <tr style=\"text-align: right;\">\n",
       "      <th></th>\n",
       "      <th>description</th>\n",
       "      <th>abstract</th>\n",
       "    </tr>\n",
       "  </thead>\n",
       "  <tbody>\n",
       "    <tr>\n",
       "      <th>0</th>\n",
       "      <td>BACKGROUND OF THE INVENTION \\n     This invent...</td>\n",
       "      <td>A method of forming fiber mixtures from differ...</td>\n",
       "    </tr>\n",
       "    <tr>\n",
       "      <th>1</th>\n",
       "      <td>CROSS-REFERENCE TO RELATED APPLICATION \\n     ...</td>\n",
       "      <td>The fibers of recycled paper are cleaned by ag...</td>\n",
       "    </tr>\n",
       "    <tr>\n",
       "      <th>2</th>\n",
       "      <td>This is a division of application Ser. No. 922...</td>\n",
       "      <td>Non-woven, bias laid fabrics, where the variou...</td>\n",
       "    </tr>\n",
       "    <tr>\n",
       "      <th>3</th>\n",
       "      <td>FIELD OF THE INVENTION \\n     The present inve...</td>\n",
       "      <td>Multiple-color air jet looms successively inse...</td>\n",
       "    </tr>\n",
       "    <tr>\n",
       "      <th>4</th>\n",
       "      <td>[0001]     This application claims the benefit...</td>\n",
       "      <td>A method of performing a spinning operation of...</td>\n",
       "    </tr>\n",
       "  </tbody>\n",
       "</table>\n",
       "</div>"
      ],
      "text/plain": [
       "                                         description  \\\n",
       "0  BACKGROUND OF THE INVENTION \\n     This invent...   \n",
       "1  CROSS-REFERENCE TO RELATED APPLICATION \\n     ...   \n",
       "2  This is a division of application Ser. No. 922...   \n",
       "3  FIELD OF THE INVENTION \\n     The present inve...   \n",
       "4  [0001]     This application claims the benefit...   \n",
       "\n",
       "                                            abstract  \n",
       "0  A method of forming fiber mixtures from differ...  \n",
       "1  The fibers of recycled paper are cleaned by ag...  \n",
       "2  Non-woven, bias laid fabrics, where the variou...  \n",
       "3  Multiple-color air jet looms successively inse...  \n",
       "4  A method of performing a spinning operation of...  "
      ]
     },
     "execution_count": 13,
     "metadata": {},
     "output_type": "execute_result"
    }
   ],
   "source": [
    "data = pd.DataFrame(ds['train'][:2000])\n",
    "data.head()"
   ]
  },
  {
   "cell_type": "code",
   "execution_count": null,
   "metadata": {},
   "outputs": [],
   "source": [
    "patent_summaries= data[\"abstract\"]\n",
    "patent_summaries\n",
    "patent_titles=[]\n",
    "for i in range(1,2000):\n",
    "    patent_titles.append(\"Patent\"+str(i))\n",
    "patent_titles"
   ]
  },
  {
   "cell_type": "code",
   "execution_count": 22,
   "metadata": {},
   "outputs": [
    {
     "data": {
      "text/plain": [
       "'A sun control textile with high transmittance and a manufacturing method thereof. In the manufacturing method of the sun control textile, a high-performance sun control film is processed into slender filaments. The slender filaments are woven and assembled with other yarns by a weaving device to together form a sun control textile. The different connection manners of the sun control film yarns lead to different visible light transmittance and sun control effect of the sun control textile, whereby an excellent sun control textile with high transmittance can be achieved.'"
      ]
     },
     "execution_count": 22,
     "metadata": {},
     "output_type": "execute_result"
    }
   ],
   "source": [
    "patent_summaries[200]"
   ]
  },
  {
   "cell_type": "code",
   "execution_count": 27,
   "metadata": {},
   "outputs": [
    {
     "name": "stdout",
     "output_type": "stream",
     "text": [
      "Similar Patents: ['Patent297', 'Patent1561']\n"
     ]
    }
   ],
   "source": [
    "\n",
    "\n",
    "# Sample patent database (replace this with your actual data)\n",
    "# patent_titles = [\"Patent 1\", \"Patent 2\", \"Patent 3\"]\n",
    "# patent_summaries = [\"This invention relates to novel calcium phosphate-coated implantable medical devices and processes of making same. The calcium-phosphate coatings are designed to minimize the immune response to the implant (e.g. restenosis in stenting procedures) and can be used to store and release a medicinally active agent in a controlled manner. Such coatings can be applied to any implantable medical devices and are useful for a number of medical procedures including (but not limited to) balloon angioplasty in cardiovascular stenting, ureteral stenting and catheterisation. The calcium phosphate coatings can be applied to a substrate as one or more coatings by a sol-gel deposition process, an aerosol-gel deposition process, a biomimetic deposition process, a calcium phosphate cement deposition process, an electro-phoretic deposition process or an electrochemical deposition process. The coating can contain and elude a drug in an engineered manner.\", \"A method and apparatus for achieving adiabatic heat ignition of combustible material, particularly explosive compositions which involves entrapping a quantity of gas in a chamber which is in communication with the combustible material and suddenly compressing the gas to the extent that the temperature thereof is increased adiabatically to the ignition temperature of the combustible material. The apparatus is particularly adaptable for use as an adiabatic ignition device for detonating cord and shaped charges of perforating guns for completion of wells. A quantity of high explosive within an explosive barrel is in detonating proximity with the detonating cord. A cylinder forms an air chamber which is in communication with the explosive composition and is provided with a piston for compression of the gas. One or more shear pins or other locking devices are provided to secure the piston in immovable relation with the cylinder. A force is caused to act on the piston which force is typically induced by fluid pressure within the well which acts on the piston and which may also be induced. As this force reaches a predetermined magnitude, or by means of a weight bar dropped or lowered on wireline from the surface, the piston will be released and the force will drive the piston into the cylinder, compressing the gas sufficiently to raise the temperature of the gas adiabatically to the ignition temperature of the explosive composition.\", \"This invention relates to novel  implantable medical devices and processes of making same. The calcium-phosphate coatings are designed to minimize the immune response to the implant (e.g. restenosis in stenting procedures) and can be used to store and release a medicinally active agent in a controlled manner. Such coatings can be applied to any implantable medical devices and are useful for a number of medical procedures including (but not limited to) balloon angioplasty in cardiovascular stenting, ureteral stenting and catheterisation. The calcium phosphate coatings can be applied to a substrate as one or more coatings by a sol-gel deposition process, an aerosol-gel deposition process, a biomimetic deposition process, a calcium phosphate cement deposition process, an electro-phoretic deposition process or an electrochemical deposition process. The coating can contain and elude a drug in an engineered manner.\"]\n",
    "\n",
    "# Preprocess text (tokenization, lowercase, etc.)\n",
    "# Apply TF-IDF vectorization\n",
    "tfidf_vectorizer = TfidfVectorizer()\n",
    "tfidf_matrix = tfidf_vectorizer.fit_transform(patent_summaries)\n",
    "\n",
    "def find_similar_patents(new_patent_description, top_n=2):\n",
    "    # Preprocess new patent description\n",
    "    new_patent_tfidf = tfidf_vectorizer.transform([new_patent_description])\n",
    "    # Calculate cosine similarity between new patent and existing patents\n",
    "    similarity_scores = cosine_similarity(new_patent_tfidf, tfidf_matrix)\n",
    "    # Get indices of top similar patents\n",
    "    top_indices = np.argsort(similarity_scores)[:, ::-1][:, :top_n]\n",
    "    # Get titles of top similar patents\n",
    "    similar_patents = [patent_titles[idx] for idx in top_indices[0]]\n",
    "    return similar_patents\n",
    "\n",
    "# Example usage\n",
    "new_patent_description = \"This invention relates to novel calcium phosphate-coated implantable medical devices and processes of making same. The calcium-phosphate coatings are designed to minimize the immune response to the implant (e.g. restenosis in stenting procedures) and can be used to store and release a medicinally active agent in a controlled manner. Such coatings can be applied to any implantable medical devices and are useful for a number of medical procedures including (but not limited to) balloon angioplasty in cardiovascular stenting, ureteral stenting and catheterisation. The calcium phosphate coatings can be applied to a substrate as one or more coatings by a sol-gel deposition process, an aerosol-gel deposition process, a biomimetic deposition process, a calcium phosphate cement deposition process, an electro-phoretic deposition process or an electrochemical deposition process. The coating can contain and elude a drug in an engineered manner.\"\n",
    "similar_patents = find_similar_patents(new_patent_description)\n",
    "print(\"Similar Patents:\", similar_patents)\n"
   ]
  },
  {
   "cell_type": "code",
   "execution_count": 24,
   "metadata": {},
   "outputs": [
    {
     "data": {
      "text/plain": [
       "'A material and method delivering to the skin therapeutic radiation and filtering a part of the sun spectrum causing skin damage.'"
      ]
     },
     "execution_count": 24,
     "metadata": {},
     "output_type": "execute_result"
    }
   ],
   "source": [
    "patent_summaries[784]"
   ]
  }
 ],
 "metadata": {
  "kernelspec": {
   "display_name": "Python 3",
   "language": "python",
   "name": "python3"
  },
  "language_info": {
   "codemirror_mode": {
    "name": "ipython",
    "version": 3
   },
   "file_extension": ".py",
   "mimetype": "text/x-python",
   "name": "python",
   "nbconvert_exporter": "python",
   "pygments_lexer": "ipython3",
   "version": "3.11.4"
  }
 },
 "nbformat": 4,
 "nbformat_minor": 2
}
